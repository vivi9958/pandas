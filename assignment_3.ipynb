{
 "cells": [
  {
   "cell_type": "markdown",
   "id": "4e96153a",
   "metadata": {},
   "source": [
    "# Python Assignment - 3\n",
    "### Carries - 30 marks"
   ]
  },
  {
   "cell_type": "markdown",
   "id": "b5bc6391",
   "metadata": {},
   "source": [
    "## What is File function in python? What is keywords to create and write file. "
   ]
  },
  {
   "cell_type": "code",
   "execution_count": null,
   "id": "ca9fcb29",
   "metadata": {},
   "outputs": [],
   "source": [
    "file function is used in python to access and manipulate the given files\n",
    "\n",
    "file1 = open(\"MyFile.txt\", \"r\") #THIS IS FOR READ ONLY MODE\n",
    "\n",
    "file1 = open(\"MyFile.txt\", \"r+\") #THIS CAN BE USED TO READ AND WRITE\n"
   ]
  },
  {
   "cell_type": "markdown",
   "id": "77e6fcc1",
   "metadata": {},
   "source": [
    "#### Create and write a  file"
   ]
  },
  {
   "cell_type": "code",
   "execution_count": null,
   "id": "10cffab9",
   "metadata": {},
   "outputs": [],
   "source": [
    "file2 = open(r\"D:\\Text\\MyFile2.txt\", \"w+\")"
   ]
  },
  {
   "cell_type": "markdown",
   "id": "ee678cfd",
   "metadata": {},
   "source": [
    "## Write a Python program to read an entire text file. "
   ]
  },
  {
   "cell_type": "code",
   "execution_count": null,
   "id": "cdf7ae1a",
   "metadata": {},
   "outputs": [],
   "source": [
    "def file_read(fname):\n",
    "        txt = open(fname)\n",
    "        print(txt.read())\n",
    "\n",
    "file_read('test.txt')"
   ]
  },
  {
   "cell_type": "markdown",
   "id": "dd46afa5",
   "metadata": {},
   "source": [
    "## Write a Python program to append text to a file and display the text."
   ]
  },
  {
   "cell_type": "code",
   "execution_count": null,
   "id": "c80ebe1f",
   "metadata": {},
   "outputs": [],
   "source": [
    "file = open('myfile.txt','a')#openeed file in apppend mode\n",
    "user = input(\"enter the text you want to add in this file : \") # taking user inpout to enter the lines to be added\n",
    "file.write(user) # adding the lines in the file \n",
    "file.close()\n"
   ]
  },
  {
   "cell_type": "markdown",
   "id": "52316493",
   "metadata": {},
   "source": [
    "## Write a Python program to read first n lines of a file. "
   ]
  },
  {
   "cell_type": "code",
   "execution_count": null,
   "id": "23617604",
   "metadata": {},
   "outputs": [],
   "source": [
    "input_file = \"text.rtf\"\n",
    "n = int(input(\"enter the no of lines you want to read : \"))\n",
    "with open(input_file,'r') as data:\n",
    "    line = data.readlines()\n",
    "for text in (line[:n]):\n",
    "    print(text)\n",
    "data.close()"
   ]
  },
  {
   "cell_type": "markdown",
   "id": "45dba4dc",
   "metadata": {},
   "source": [
    "## Write a Python program to read last n lines of a file. "
   ]
  },
  {
   "cell_type": "code",
   "execution_count": null,
   "id": "d36a72b0",
   "metadata": {},
   "outputs": [],
   "source": [
    "input_file = \"text.rtf\"\n",
    "n = int(input(\"enter the no of lines you want to read : \"))\n",
    "with open(input_file,'r') as data:\n",
    "    line = data.readlines()\n",
    "for text in (line[n:]):\n",
    "    print(text)\n",
    "data.close()"
   ]
  },
  {
   "cell_type": "markdown",
   "id": "76a74d09",
   "metadata": {},
   "source": [
    "### Write a Python program to read a file line by line and store it into a list"
   ]
  },
  {
   "cell_type": "code",
   "execution_count": null,
   "id": "3ea8e4e4",
   "metadata": {},
   "outputs": [],
   "source": [
    "with open(\"data_file.txt\") as f:\n",
    "    content_list = f.readlines()\n",
    "\n",
    "\n",
    "print(content_list)\n",
    "\n",
    "\n",
    "content_list = [x.strip() for x in content_list]\n",
    "print(content_list)"
   ]
  },
  {
   "cell_type": "markdown",
   "id": "589e624c",
   "metadata": {},
   "source": [
    "## Write a Python program to read a file line by line store it into a variable."
   ]
  },
  {
   "cell_type": "code",
   "execution_count": null,
   "id": "9a6f1553",
   "metadata": {},
   "outputs": [],
   "source": [
    "def file_read(fname):\n",
    "        with open (fname, \"r\") as myfile:\n",
    "                data=myfile.readlines()\n",
    "                print(data)\n",
    "file_read('test.txt')"
   ]
  },
  {
   "cell_type": "markdown",
   "id": "c5a5e0a9",
   "metadata": {},
   "source": [
    "## Write a Python program to copy the contents of a file to another file. "
   ]
  },
  {
   "cell_type": "code",
   "execution_count": 1,
   "id": "d47a46fb",
   "metadata": {},
   "outputs": [
    {
     "ename": "FileNotFoundError",
     "evalue": "[Errno 2] No such file or directory: 'first.txt'",
     "output_type": "error",
     "traceback": [
      "\u001b[0;31m---------------------------------------------------------------------------\u001b[0m",
      "\u001b[0;31mFileNotFoundError\u001b[0m                         Traceback (most recent call last)",
      "Cell \u001b[0;32mIn[1], line 1\u001b[0m\n\u001b[0;32m----> 1\u001b[0m \u001b[38;5;28;01mwith\u001b[39;00m \u001b[38;5;28mopen\u001b[39m(\u001b[38;5;124m'\u001b[39m\u001b[38;5;124mfirst.txt\u001b[39m\u001b[38;5;124m'\u001b[39m,\u001b[38;5;124m'\u001b[39m\u001b[38;5;124mr\u001b[39m\u001b[38;5;124m'\u001b[39m) \u001b[38;5;28;01mas\u001b[39;00m firstfile, \u001b[38;5;28mopen\u001b[39m(\u001b[38;5;124m'\u001b[39m\u001b[38;5;124msecond.txt\u001b[39m\u001b[38;5;124m'\u001b[39m,\u001b[38;5;124m'\u001b[39m\u001b[38;5;124ma\u001b[39m\u001b[38;5;124m'\u001b[39m) \u001b[38;5;28;01mas\u001b[39;00m secondfile: \n\u001b[1;32m      4\u001b[0m     \u001b[38;5;28;01mfor\u001b[39;00m line \u001b[38;5;129;01min\u001b[39;00m firstfile: \n\u001b[1;32m      7\u001b[0m              secondfile\u001b[38;5;241m.\u001b[39mwrite(line)\n",
      "File \u001b[0;32m~/anaconda3/lib/python3.11/site-packages/IPython/core/interactiveshell.py:284\u001b[0m, in \u001b[0;36m_modified_open\u001b[0;34m(file, *args, **kwargs)\u001b[0m\n\u001b[1;32m    277\u001b[0m \u001b[38;5;28;01mif\u001b[39;00m file \u001b[38;5;129;01min\u001b[39;00m {\u001b[38;5;241m0\u001b[39m, \u001b[38;5;241m1\u001b[39m, \u001b[38;5;241m2\u001b[39m}:\n\u001b[1;32m    278\u001b[0m     \u001b[38;5;28;01mraise\u001b[39;00m \u001b[38;5;167;01mValueError\u001b[39;00m(\n\u001b[1;32m    279\u001b[0m         \u001b[38;5;124mf\u001b[39m\u001b[38;5;124m\"\u001b[39m\u001b[38;5;124mIPython won\u001b[39m\u001b[38;5;124m'\u001b[39m\u001b[38;5;124mt let you open fd=\u001b[39m\u001b[38;5;132;01m{\u001b[39;00mfile\u001b[38;5;132;01m}\u001b[39;00m\u001b[38;5;124m by default \u001b[39m\u001b[38;5;124m\"\u001b[39m\n\u001b[1;32m    280\u001b[0m         \u001b[38;5;124m\"\u001b[39m\u001b[38;5;124mas it is likely to crash IPython. If you know what you are doing, \u001b[39m\u001b[38;5;124m\"\u001b[39m\n\u001b[1;32m    281\u001b[0m         \u001b[38;5;124m\"\u001b[39m\u001b[38;5;124myou can use builtins\u001b[39m\u001b[38;5;124m'\u001b[39m\u001b[38;5;124m open.\u001b[39m\u001b[38;5;124m\"\u001b[39m\n\u001b[1;32m    282\u001b[0m     )\n\u001b[0;32m--> 284\u001b[0m \u001b[38;5;28;01mreturn\u001b[39;00m io_open(file, \u001b[38;5;241m*\u001b[39margs, \u001b[38;5;241m*\u001b[39m\u001b[38;5;241m*\u001b[39mkwargs)\n",
      "\u001b[0;31mFileNotFoundError\u001b[0m: [Errno 2] No such file or directory: 'first.txt'"
     ]
    }
   ],
   "source": [
    "with open('first.txt','r') as firstfile, open('second.txt','a') as secondfile: \n",
    "      \n",
    "    \n",
    "    for line in firstfile: \n",
    "               \n",
    "             \n",
    "             secondfile.write(line)"
   ]
  },
  {
   "cell_type": "markdown",
   "id": "056551f3",
   "metadata": {},
   "source": [
    "## Write python program that user to enter only odd numbers, else will raise an exception"
   ]
  },
  {
   "cell_type": "code",
   "execution_count": 5,
   "id": "e2ef3212",
   "metadata": {},
   "outputs": [
    {
     "name": "stdout",
     "output_type": "stream",
     "text": [
      "enter the number : 6\n"
     ]
    }
   ],
   "source": [
    "n = int(input(\"enter the number : \"))\n",
    "try:\n",
    "    if(n%2==1):\n",
    "        print(\"okay valid input\")\n",
    "except:\n",
    "    print(\"error\")"
   ]
  },
  {
   "cell_type": "markdown",
   "id": "165279e1",
   "metadata": {},
   "source": [
    "## Can one block of except statements handle multiple exception? "
   ]
  },
  {
   "cell_type": "code",
   "execution_count": null,
   "id": "9cc304cc",
   "metadata": {},
   "outputs": [],
   "source": [
    "yes"
   ]
  },
  {
   "cell_type": "markdown",
   "id": "759b2c5f",
   "metadata": {},
   "source": [
    "## Explain Exception handling? What is an Error in Python?\n"
   ]
  },
  {
   "cell_type": "code",
   "execution_count": 6,
   "id": "555171f7",
   "metadata": {},
   "outputs": [
    {
     "name": "stdout",
     "output_type": "stream",
     "text": [
      "sometimes in the code due to some execution in the code or a particular line there can be errors and because of that the whole functionality can stop working therefore exception handling is used to so that those error are caught and do not stop the working of the code\n"
     ]
    }
   ],
   "source": [
    "print(\"sometimes in the code due to some execution in the code or a particular line there can be errors and because of that the whole functionality can stop working therefore exception handling is used to so that those error are caught and do not stop the working of the code\")\n",
    "print(\"the problems that occur in code due to some operations which cannot be performed \")"
   ]
  },
  {
   "cell_type": "markdown",
   "id": "503ae851",
   "metadata": {},
   "source": [
    "## Write a Python program to count the number of lines in a text file. "
   ]
  },
  {
   "cell_type": "code",
   "execution_count": null,
   "id": "9b708d8d",
   "metadata": {},
   "outputs": [],
   "source": [
    "with open('text.txt','r') as file:\n",
    "   count = 0\n",
    "   for line in file: \n",
    "      count += 1\n",
    "print(f\"The counting of number of lines is: {cnt}\")"
   ]
  },
  {
   "cell_type": "markdown",
   "id": "7dd706b2",
   "metadata": {},
   "source": [
    "## Write a Python program to write a list to a file. "
   ]
  },
  {
   "cell_type": "code",
   "execution_count": null,
   "id": "ab86375f",
   "metadata": {},
   "outputs": [],
   "source": [
    "items = ['Mango', 'Orange', 'Apple', 'Lemon']\n",
    "file = open('items.txt','w')\n",
    "for the item in items:\n",
    "    file.write(item+\"\\n\")\n",
    "file.close()"
   ]
  },
  {
   "cell_type": "markdown",
   "id": "452eb320",
   "metadata": {},
   "source": [
    "# Explain Inheritance in Python with an example?What is init? Or What Is A Constructor In Python? \n",
    "\n"
   ]
  },
  {
   "cell_type": "code",
   "execution_count": null,
   "id": "a15e5f1b",
   "metadata": {},
   "outputs": [],
   "source": [
    "# a class can inherit it's properties and behviour from another class is called inheritance\n",
    "# example : there is a fruit class , so apple which is a fruit can inherit all the properties of the fruit class\n",
    "\n",
    "\n",
    "#the init function is called everytime an object is created from the base class\n",
    "\n",
    "#it is a method which is called when an object is created basically INIT is a constructor\n"
   ]
  },
  {
   "cell_type": "markdown",
   "id": "a498a822",
   "metadata": {},
   "source": [
    "# Write a python program to find the longest words."
   ]
  },
  {
   "cell_type": "code",
   "execution_count": 9,
   "id": "efbdc1ae",
   "metadata": {},
   "outputs": [
    {
     "data": {
      "text/plain": [
       "'hgjhvhgv'"
      ]
     },
     "execution_count": 9,
     "metadata": {},
     "output_type": "execute_result"
    }
   ],
   "source": [
    "from functools import reduce\n",
    "def long_word(s):\n",
    "    words = s.split()\n",
    "    return reduce(lambda x,y : x if len(x) > len(y) else y , words)\n",
    "\n",
    "long_word(\"this uh jhg hgjhvhgv\")"
   ]
  },
  {
   "cell_type": "markdown",
   "id": "cbbc881b",
   "metadata": {},
   "source": [
    "# How to Define a Class in Python? What Is Self? Give An Example Of A Python Class\n",
    ".\n"
   ]
  },
  {
   "cell_type": "code",
   "execution_count": null,
   "id": "2576eaf5",
   "metadata": {},
   "outputs": [],
   "source": [
    "# class MyClass:\n",
    "# x = 5\n",
    "    \n",
    "# self is used to represent instance of a class\n",
    "\n",
    "#"
   ]
  },
  {
   "cell_type": "markdown",
   "id": "f856028b",
   "metadata": {},
   "source": [
    "# Write a Python class named Rectangle constructed by a length and width and a method which will compute the area of a rectangle"
   ]
  },
  {
   "cell_type": "code",
   "execution_count": 12,
   "id": "509ca5ef",
   "metadata": {},
   "outputs": [],
   "source": [
    "class Rectangle():\n",
    "    def __init__(self, l, w):\n",
    "        self.length = l\n",
    "        self.width  = w\n",
    "\n",
    "    def rectangle_area(self):\n",
    "        return self.length*self.width\n"
   ]
  },
  {
   "cell_type": "markdown",
   "id": "e627277a",
   "metadata": {},
   "source": [
    "## Explain Exception handling? What is an Error in Python? "
   ]
  },
  {
   "cell_type": "code",
   "execution_count": null,
   "id": "f64d868d",
   "metadata": {},
   "outputs": [],
   "source": [
    "same"
   ]
  },
  {
   "cell_type": "markdown",
   "id": "bed33f31",
   "metadata": {},
   "source": [
    "## How many except statements can a try-except block have? Name Some built-in exception classes: "
   ]
  },
  {
   "cell_type": "code",
   "execution_count": null,
   "id": "07b1d1b9",
   "metadata": {},
   "outputs": [],
   "source": [
    "same"
   ]
  },
  {
   "cell_type": "markdown",
   "id": "9d89a755",
   "metadata": {},
   "source": [
    "## Write python program that user to enter only odd numbers, else will raise an exception. "
   ]
  },
  {
   "cell_type": "code",
   "execution_count": null,
   "id": "fb017904",
   "metadata": {},
   "outputs": [],
   "source": [
    "same"
   ]
  },
  {
   "cell_type": "markdown",
   "id": "e8497bda",
   "metadata": {},
   "source": [
    "## Write a Python class named Circle constructed by a radius and two methods which will compute the area and the perimeter of a circle "
   ]
  },
  {
   "cell_type": "code",
   "execution_count": 11,
   "id": "2a6c509d",
   "metadata": {},
   "outputs": [
    {
     "name": "stdout",
     "output_type": "stream",
     "text": [
      "254.34\n",
      "56.52\n"
     ]
    }
   ],
   "source": [
    "class circle():\n",
    "    def __init__(self, r):\n",
    "        self.radius = r\n",
    "\n",
    "    def area(self):\n",
    "        return self.radius**2*3.14\n",
    "    \n",
    "    def perimeter(self):\n",
    "        return 2*self.radius*3.14\n",
    "\n",
    "NewCircle = circle(9)\n",
    "print(NewCircle.area())\n",
    "print(NewCircle.perimeter())"
   ]
  },
  {
   "cell_type": "markdown",
   "id": "fc384afd",
   "metadata": {},
   "source": [
    "## Explain Inheritance in Python with an example? What is init? Or What Is A Constructor In Python? "
   ]
  },
  {
   "cell_type": "code",
   "execution_count": null,
   "id": "242666cb",
   "metadata": {},
   "outputs": [],
   "source": []
  },
  {
   "cell_type": "markdown",
   "id": "ca9350b1",
   "metadata": {},
   "source": [
    "## What is Instantiation in terms of OOP terminology?\n",
    "\n"
   ]
  },
  {
   "cell_type": "code",
   "execution_count": null,
   "id": "5d864c6e",
   "metadata": {},
   "outputs": [],
   "source": [
    " the processes of creating a new object for a class by new keyword"
   ]
  },
  {
   "cell_type": "code",
   "execution_count": null,
   "id": "59d11a69",
   "metadata": {},
   "outputs": [],
   "source": []
  }
 ],
 "metadata": {
  "kernelspec": {
   "display_name": "Python 3 (ipykernel)",
   "language": "python",
   "name": "python3"
  },
  "language_info": {
   "codemirror_mode": {
    "name": "ipython",
    "version": 3
   },
   "file_extension": ".py",
   "mimetype": "text/x-python",
   "name": "python",
   "nbconvert_exporter": "python",
   "pygments_lexer": "ipython3",
   "version": "3.11.4"
  },
  "vscode": {
   "interpreter": {
    "hash": "2043299c89c8cd0b4d1a6f5cf4529bd58e6a4e0fe3181a25e0d328c821cdc5c5"
   }
  }
 },
 "nbformat": 4,
 "nbformat_minor": 5
}
